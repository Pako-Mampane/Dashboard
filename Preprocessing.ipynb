{
 "cells": [
  {
   "cell_type": "code",
   "execution_count": 97,
   "metadata": {},
   "outputs": [],
   "source": [
    "import numpy as np\n",
    "import pandas as pd\n",
    "import matplotlib.pyplot as plt\n",
    "import seaborn as sns\n",
    "from datetime import datetime, timedelta\n",
    "import re"
   ]
  },
  {
   "cell_type": "code",
   "execution_count": 98,
   "metadata": {},
   "outputs": [],
   "source": [
    "file = \"data/raw_logs/final_server_logs12.csv\"\n",
    "df = pd.read_csv(file,on_bad_lines='skip')"
   ]
  },
  {
   "cell_type": "code",
   "execution_count": 99,
   "metadata": {},
   "outputs": [
    {
     "data": {
      "text/html": [
       "<div>\n",
       "<style scoped>\n",
       "    .dataframe tbody tr th:only-of-type {\n",
       "        vertical-align: middle;\n",
       "    }\n",
       "\n",
       "    .dataframe tbody tr th {\n",
       "        vertical-align: top;\n",
       "    }\n",
       "\n",
       "    .dataframe thead th {\n",
       "        text-align: right;\n",
       "    }\n",
       "</style>\n",
       "<table border=\"1\" class=\"dataframe\">\n",
       "  <thead>\n",
       "    <tr style=\"text-align: right;\">\n",
       "      <th></th>\n",
       "      <th>Timestamp</th>\n",
       "      <th>IP Address</th>\n",
       "      <th>Session ID</th>\n",
       "      <th>Country</th>\n",
       "      <th>Method</th>\n",
       "      <th>URL</th>\n",
       "      <th>Status Code</th>\n",
       "      <th>Response Time (ms)</th>\n",
       "      <th>Sales Agent</th>\n",
       "      <th>Referrer</th>\n",
       "      <th>Product</th>\n",
       "      <th>Price</th>\n",
       "      <th>IP_Session</th>\n",
       "      <th>viewed_pricing_after_demo</th>\n",
       "      <th>pages_after_demo</th>\n",
       "      <th>sessions_after_demo</th>\n",
       "      <th>time_to_purchase</th>\n",
       "    </tr>\n",
       "  </thead>\n",
       "  <tbody>\n",
       "    <tr>\n",
       "      <th>0</th>\n",
       "      <td>2024-11-27 02:51:02</td>\n",
       "      <td>155.200.68.16</td>\n",
       "      <td>9ac6b5fa-b78b-4a95-a550-0621f2173d99</td>\n",
       "      <td>USA</td>\n",
       "      <td>GET</td>\n",
       "      <td>/about-us.html</td>\n",
       "      <td>404</td>\n",
       "      <td>241.91</td>\n",
       "      <td>NaN</td>\n",
       "      <td>https://www.linkedin.com</td>\n",
       "      <td>NaN</td>\n",
       "      <td>0.0</td>\n",
       "      <td>155.200.68.16_9ac6b5fa-b78b-4a95-a550-0621f217...</td>\n",
       "      <td>False</td>\n",
       "      <td>0</td>\n",
       "      <td>0</td>\n",
       "      <td>NaN</td>\n",
       "    </tr>\n",
       "    <tr>\n",
       "      <th>1</th>\n",
       "      <td>2024-11-27 02:32:25</td>\n",
       "      <td>209.78.40.60</td>\n",
       "      <td>a7429085-8825-43f1-be6e-c84d3c484537</td>\n",
       "      <td>Canada</td>\n",
       "      <td>GET</td>\n",
       "      <td>/promo-events.html</td>\n",
       "      <td>200</td>\n",
       "      <td>209.20</td>\n",
       "      <td>NaN</td>\n",
       "      <td>https://www.google.com</td>\n",
       "      <td>NaN</td>\n",
       "      <td>0.0</td>\n",
       "      <td>209.78.40.60_a7429085-8825-43f1-be6e-c84d3c484537</td>\n",
       "      <td>False</td>\n",
       "      <td>0</td>\n",
       "      <td>0</td>\n",
       "      <td>NaN</td>\n",
       "    </tr>\n",
       "    <tr>\n",
       "      <th>2</th>\n",
       "      <td>2024-11-27 03:15:40</td>\n",
       "      <td>15.54.111.208</td>\n",
       "      <td>475bbe1f-b25d-4af5-85c8-742ae8d3a301</td>\n",
       "      <td>USA</td>\n",
       "      <td>POST</td>\n",
       "      <td>/product/performance-analytics-tool/schedule-d...</td>\n",
       "      <td>408</td>\n",
       "      <td>382.25</td>\n",
       "      <td>Kago</td>\n",
       "      <td>https://www.linkedin.com</td>\n",
       "      <td>Performance Analytics Tool</td>\n",
       "      <td>0.0</td>\n",
       "      <td>15.54.111.208_475bbe1f-b25d-4af5-85c8-742ae8d3...</td>\n",
       "      <td>False</td>\n",
       "      <td>0</td>\n",
       "      <td>0</td>\n",
       "      <td>NaN</td>\n",
       "    </tr>\n",
       "    <tr>\n",
       "      <th>3</th>\n",
       "      <td>2024-11-27 03:06:03</td>\n",
       "      <td>87.218.51.15</td>\n",
       "      <td>0bd3fe9b-4b23-4f10-9ebc-c5032c868fe5</td>\n",
       "      <td>South Korea</td>\n",
       "      <td>GET</td>\n",
       "      <td>/index.html</td>\n",
       "      <td>200</td>\n",
       "      <td>388.18</td>\n",
       "      <td>NaN</td>\n",
       "      <td>https://www.facebook.com</td>\n",
       "      <td>NaN</td>\n",
       "      <td>0.0</td>\n",
       "      <td>87.218.51.15_0bd3fe9b-4b23-4f10-9ebc-c5032c868fe5</td>\n",
       "      <td>False</td>\n",
       "      <td>0</td>\n",
       "      <td>0</td>\n",
       "      <td>NaN</td>\n",
       "    </tr>\n",
       "    <tr>\n",
       "      <th>4</th>\n",
       "      <td>2024-11-27 03:09:03</td>\n",
       "      <td>151.19.182.101</td>\n",
       "      <td>fe5a0c1f-20fb-4bae-9758-e2e9170971b7</td>\n",
       "      <td>Canada</td>\n",
       "      <td>GET</td>\n",
       "      <td>/event.html</td>\n",
       "      <td>200</td>\n",
       "      <td>253.94</td>\n",
       "      <td>NaN</td>\n",
       "      <td>https://www.bing.com</td>\n",
       "      <td>NaN</td>\n",
       "      <td>0.0</td>\n",
       "      <td>151.19.182.101_fe5a0c1f-20fb-4bae-9758-e2e9170...</td>\n",
       "      <td>False</td>\n",
       "      <td>0</td>\n",
       "      <td>0</td>\n",
       "      <td>NaN</td>\n",
       "    </tr>\n",
       "  </tbody>\n",
       "</table>\n",
       "</div>"
      ],
      "text/plain": [
       "             Timestamp      IP Address                            Session ID  \\\n",
       "0  2024-11-27 02:51:02   155.200.68.16  9ac6b5fa-b78b-4a95-a550-0621f2173d99   \n",
       "1  2024-11-27 02:32:25    209.78.40.60  a7429085-8825-43f1-be6e-c84d3c484537   \n",
       "2  2024-11-27 03:15:40   15.54.111.208  475bbe1f-b25d-4af5-85c8-742ae8d3a301   \n",
       "3  2024-11-27 03:06:03    87.218.51.15  0bd3fe9b-4b23-4f10-9ebc-c5032c868fe5   \n",
       "4  2024-11-27 03:09:03  151.19.182.101  fe5a0c1f-20fb-4bae-9758-e2e9170971b7   \n",
       "\n",
       "       Country Method                                                URL  \\\n",
       "0          USA    GET                                     /about-us.html   \n",
       "1       Canada    GET                                 /promo-events.html   \n",
       "2          USA   POST  /product/performance-analytics-tool/schedule-d...   \n",
       "3  South Korea    GET                                        /index.html   \n",
       "4       Canada    GET                                        /event.html   \n",
       "\n",
       "   Status Code  Response Time (ms) Sales Agent                  Referrer  \\\n",
       "0          404              241.91         NaN  https://www.linkedin.com   \n",
       "1          200              209.20         NaN    https://www.google.com   \n",
       "2          408              382.25        Kago  https://www.linkedin.com   \n",
       "3          200              388.18         NaN  https://www.facebook.com   \n",
       "4          200              253.94         NaN      https://www.bing.com   \n",
       "\n",
       "                      Product  Price  \\\n",
       "0                         NaN    0.0   \n",
       "1                         NaN    0.0   \n",
       "2  Performance Analytics Tool    0.0   \n",
       "3                         NaN    0.0   \n",
       "4                         NaN    0.0   \n",
       "\n",
       "                                          IP_Session  \\\n",
       "0  155.200.68.16_9ac6b5fa-b78b-4a95-a550-0621f217...   \n",
       "1  209.78.40.60_a7429085-8825-43f1-be6e-c84d3c484537   \n",
       "2  15.54.111.208_475bbe1f-b25d-4af5-85c8-742ae8d3...   \n",
       "3  87.218.51.15_0bd3fe9b-4b23-4f10-9ebc-c5032c868fe5   \n",
       "4  151.19.182.101_fe5a0c1f-20fb-4bae-9758-e2e9170...   \n",
       "\n",
       "   viewed_pricing_after_demo  pages_after_demo  sessions_after_demo  \\\n",
       "0                      False                 0                    0   \n",
       "1                      False                 0                    0   \n",
       "2                      False                 0                    0   \n",
       "3                      False                 0                    0   \n",
       "4                      False                 0                    0   \n",
       "\n",
       "   time_to_purchase  \n",
       "0               NaN  \n",
       "1               NaN  \n",
       "2               NaN  \n",
       "3               NaN  \n",
       "4               NaN  "
      ]
     },
     "execution_count": 99,
     "metadata": {},
     "output_type": "execute_result"
    }
   ],
   "source": [
    "df.head()"
   ]
  },
  {
   "cell_type": "code",
   "execution_count": 100,
   "metadata": {},
   "outputs": [],
   "source": [
    "# Impute missing values\n",
    "for column in df.columns:\n",
    "    if df[column].dtype == 'object':  # Categorical columns (object type)\n",
    "        df[column] = df[column].fillna('None')  # Impute with None\n",
    "    else:  # Numerical columns\n",
    "        df[column] = df[column].fillna(0)"
   ]
  },
  {
   "cell_type": "code",
   "execution_count": 101,
   "metadata": {},
   "outputs": [],
   "source": [
    "# Fixing outliers in the Response Time column\n",
    "df['Response Time (ms)'] = pd.to_numeric(df['Response Time (ms)'], errors='coerce')\n",
    "df['Response Time (ms)'] = df['Response Time (ms)'].fillna(df['Response Time (ms)'].median())\n",
    "\n",
    "Q1 = df['Response Time (ms)'].quantile(0.25)\n",
    "Q3 = df['Response Time (ms)'].quantile(0.75)\n",
    "IQR = Q3 - Q1\n",
    "\n",
    "# Define bounds\n",
    "lower_bound = Q1 - 1.5 * IQR\n",
    "upper_bound = Q3 + 1.5 * IQR\n",
    "\n",
    "# Calculate 95th percentile as cap value\n",
    "cap_value = df['Response Time (ms)'].quantile(0.95)\n",
    "\n",
    "# Replace outliers\n",
    "df['Response Time (ms)'] = df['Response Time (ms)'].apply(\n",
    "    lambda x: cap_value if x > upper_bound else (Q1 if x < lower_bound else x)\n",
    ")"
   ]
  },
  {
   "cell_type": "code",
   "execution_count": 102,
   "metadata": {},
   "outputs": [],
   "source": [
    "# Break up timestamp\n",
    "df['Timestamp'] = pd.to_datetime(df['Timestamp'])\n",
    "df['hour'] = df['Timestamp'].dt.hour\n",
    "df['day_of_week'] = df['Timestamp'].dt.day_of_week\n",
    "df['month'] = df['Timestamp'].dt.month\n",
    "df['year'] = df['Timestamp'].dt.year\n",
    "df['is_weekend'] = df['day_of_week'].apply(lambda x: 1 if x >= 5 else 0)"
   ]
  },
  {
   "cell_type": "code",
   "execution_count": 103,
   "metadata": {},
   "outputs": [],
   "source": [
    "# Isolate referrer names\n",
    "df['Referrer']= df['Referrer'].str.extract(r\"https?://www\\.([a-z]+)\\.com\", expand=False).fillna(\"direct\")"
   ]
  },
  {
   "cell_type": "code",
   "execution_count": 104,
   "metadata": {},
   "outputs": [],
   "source": [
    "# Rename Price to revenue\n",
    "df[\"Revenue\"]=df[\"Price\"]\n"
   ]
  },
  {
   "cell_type": "code",
   "execution_count": 105,
   "metadata": {},
   "outputs": [],
   "source": [
    "sales_cols = ['Sales Agent', 'Product']\n",
    "for col in sales_cols:\n",
    "    if df[col].isna().any():\n",
    "        df[col]=df[col].fillna(\"None\")\n",
    "\n",
    "df['Revenue']=df['Revenue'].fillna(0)"
   ]
  },
  {
   "cell_type": "code",
   "execution_count": 106,
   "metadata": {},
   "outputs": [],
   "source": [
    "def categorize_url(method, path):\n",
    "    \"\"\"Categorizes URLs based on method and path patterns\"\"\"\n",
    "    path = str(path).lower()  # Ensure string and case-insensitive\n",
    "    \n",
    "    # Product Pages\n",
    "    if '/product/' in path:\n",
    "        if 'schedule-demo' in path:\n",
    "            return \"Demo Request\"\n",
    "        elif 'request.php' in path:\n",
    "            return \"Product Purchase\"\n",
    "        elif 'feedback.php' in path:\n",
    "            return \"Product Feedback\"\n",
    "        else:\n",
    "            return \"Product View\"\n",
    "    \n",
    "    # Sales Actions\n",
    "    elif any(p in path for p in ['/buy-', '/checkout', '/request-quote']):\n",
    "        return \"Sales Conversion\"\n",
    "    \n",
    "    # Marketing\n",
    "    elif any(p in path for p in ['/promo-', '/special-offers', '/newsletter']):\n",
    "        return \"Marketing Content\"\n",
    "    \n",
    "    # Support\n",
    "    elif any(p in path for p in ['/customer-support', '/faq', '/bug-tickets']):\n",
    "        return \"Support\"\n",
    "    \n",
    "    # Company Info\n",
    "    elif any(p in path for p in ['/about-us', '/contact-sales']):\n",
    "        return \"Company Info\"\n",
    "    \n",
    "    # Static Assets\n",
    "    elif any(ext in path for ext in ['.jpg', '.png', '.css', '.js', '/images/']):\n",
    "        return \"Static Asset\"\n",
    "    \n",
    "    # Homepage\n",
    "    elif path in [\"/\", \"/index.html\", \"/home\"]:\n",
    "        return \"Homepage\"\n",
    "    \n",
    "    else:\n",
    "        return \"Other\"\n",
    "\n",
    "# Apply to DataFrame (assuming df has 'Method' and 'URL' columns)\n",
    "df['Request Type'] = df.apply(\n",
    "    lambda row: categorize_url(row['Method'], row['URL']), \n",
    "    axis=1\n",
    ")"
   ]
  },
  {
   "cell_type": "code",
   "execution_count": 107,
   "metadata": {},
   "outputs": [
    {
     "name": "stdout",
     "output_type": "stream",
     "text": [
      "<class 'pandas.core.frame.DataFrame'>\n",
      "RangeIndex: 125000 entries, 0 to 124999\n",
      "Data columns (total 24 columns):\n",
      " #   Column                     Non-Null Count   Dtype         \n",
      "---  ------                     --------------   -----         \n",
      " 0   Timestamp                  125000 non-null  datetime64[ns]\n",
      " 1   IP Address                 125000 non-null  object        \n",
      " 2   Session ID                 125000 non-null  object        \n",
      " 3   Country                    125000 non-null  object        \n",
      " 4   Method                     125000 non-null  object        \n",
      " 5   URL                        125000 non-null  object        \n",
      " 6   Status Code                125000 non-null  int64         \n",
      " 7   Response Time (ms)         125000 non-null  float64       \n",
      " 8   Sales Agent                125000 non-null  object        \n",
      " 9   Referrer                   125000 non-null  object        \n",
      " 10  Product                    125000 non-null  object        \n",
      " 11  Price                      125000 non-null  float64       \n",
      " 12  IP_Session                 125000 non-null  object        \n",
      " 13  viewed_pricing_after_demo  125000 non-null  bool          \n",
      " 14  pages_after_demo           125000 non-null  int64         \n",
      " 15  sessions_after_demo        125000 non-null  int64         \n",
      " 16  time_to_purchase           125000 non-null  float64       \n",
      " 17  hour                       125000 non-null  int32         \n",
      " 18  day_of_week                125000 non-null  int32         \n",
      " 19  month                      125000 non-null  int32         \n",
      " 20  year                       125000 non-null  int32         \n",
      " 21  is_weekend                 125000 non-null  int64         \n",
      " 22  Revenue                    125000 non-null  float64       \n",
      " 23  Request Type               125000 non-null  object        \n",
      "dtypes: bool(1), datetime64[ns](1), float64(4), int32(4), int64(4), object(10)\n",
      "memory usage: 20.1+ MB\n"
     ]
    }
   ],
   "source": [
    "df.info()"
   ]
  },
  {
   "cell_type": "code",
   "execution_count": 108,
   "metadata": {},
   "outputs": [
    {
     "name": "stdout",
     "output_type": "stream",
     "text": [
      "Total Unique IPs (counted only once): 104136\n",
      "New Visitors: 85784\n",
      "Returning Visitors: 18352\n",
      "Total Visits (All IPs): 125000\n"
     ]
    }
   ],
   "source": [
    "# Get unique IP addresses and their count\n",
    "unique_ips = df[\"IP Address\"].nunique()\n",
    "\n",
    "# Count visits per IP (this won't count duplicates anymore)\n",
    "ip_counts = df[\"IP Address\"].value_counts()\n",
    "\n",
    "# Map visit counts to the original DataFrame\n",
    "df[\"visit_count\"] = df[\"IP Address\"].map(ip_counts)\n",
    "\n",
    "# Classify visitor type (New or Returning)\n",
    "df[\"visitor_type\"] = df[\"visit_count\"].apply(lambda x: \"New\" if x == 1 else \"Returning\")\n",
    "\n",
    "# Count new and returning visitors\n",
    "new_visitors = df[df[\"visitor_type\"] == \"New\"][\"IP Address\"].nunique()\n",
    "returning_visitors = df[df[\"visitor_type\"] == \"Returning\"][\"IP Address\"].nunique()\n",
    "\n",
    "# Print results\n",
    "print(\"Total Unique IPs (counted only once):\", unique_ips)\n",
    "print(\"New Visitors:\", new_visitors)\n",
    "print(\"Returning Visitors:\", returning_visitors)\n",
    "print(\"Total Visits (All IPs):\", ip_counts.sum())\n"
   ]
  },
  {
   "cell_type": "code",
   "execution_count": null,
   "metadata": {},
   "outputs": [],
   "source": []
  },
  {
   "cell_type": "code",
   "execution_count": 109,
   "metadata": {},
   "outputs": [
    {
     "name": "stdout",
     "output_type": "stream",
     "text": [
      "Unique Request Types:\n",
      "['Company Info' 'Marketing Content' 'Demo Request' 'Homepage' 'Other'\n",
      " 'Product Feedback' 'Support' 'Product View' 'Product Purchase'\n",
      " 'Sales Conversion' 'Static Asset']\n"
     ]
    }
   ],
   "source": [
    "print(\"Unique Request Types:\")\n",
    "print(df[\"Request Type\"].unique())\n"
   ]
  },
  {
   "cell_type": "code",
   "execution_count": 110,
   "metadata": {},
   "outputs": [
    {
     "data": {
      "text/plain": [
       "Index(['Timestamp', 'IP Address', 'Session ID', 'Country', 'Method', 'URL',\n",
       "       'Status Code', 'Response Time (ms)', 'Sales Agent', 'Referrer',\n",
       "       'Product', 'Price', 'IP_Session', 'viewed_pricing_after_demo',\n",
       "       'pages_after_demo', 'sessions_after_demo', 'time_to_purchase', 'hour',\n",
       "       'day_of_week', 'month', 'year', 'is_weekend', 'Revenue', 'Request Type',\n",
       "       'visit_count', 'visitor_type'],\n",
       "      dtype='object')"
      ]
     },
     "execution_count": 110,
     "metadata": {},
     "output_type": "execute_result"
    }
   ],
   "source": [
    "df.columns"
   ]
  },
  {
   "cell_type": "code",
   "execution_count": null,
   "metadata": {},
   "outputs": [
    {
     "name": "stdout",
     "output_type": "stream",
     "text": [
      "CSV file data/cleaned_logs/cleaned11.csv has been saved successfully.\n"
     ]
    }
   ],
   "source": [
    "file='data/cleaned_logs/cleaned12.csv'\n",
    "df.to_csv(file, index=False)\n",
    "\n",
    "print(f\"CSV file {file} has been saved successfully.\")"
   ]
  }
 ],
 "metadata": {
  "kernelspec": {
   "display_name": ".venv",
   "language": "python",
   "name": "python3"
  },
  "language_info": {
   "codemirror_mode": {
    "name": "ipython",
    "version": 3
   },
   "file_extension": ".py",
   "mimetype": "text/x-python",
   "name": "python",
   "nbconvert_exporter": "python",
   "pygments_lexer": "ipython3",
   "version": "3.12.4"
  }
 },
 "nbformat": 4,
 "nbformat_minor": 2
}

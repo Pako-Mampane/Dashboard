{
 "cells": [
  {
   "cell_type": "code",
   "execution_count": 13,
   "metadata": {},
   "outputs": [],
   "source": [
    "import numpy as np\n",
    "import pandas as pd\n",
    "import matplotlib.pyplot as plt\n",
    "import seaborn as sns\n",
    "from datetime import datetime, timedelta\n",
    "import re"
   ]
  },
  {
   "cell_type": "code",
   "execution_count": 14,
   "metadata": {},
   "outputs": [],
   "source": [
    "file = \"data/raw_logs/final_server_logs11.csv\"\n",
    "df = pd.read_csv(file,on_bad_lines='skip')"
   ]
  },
  {
   "cell_type": "code",
   "execution_count": 15,
   "metadata": {},
   "outputs": [],
   "source": [
    "# Impute missing values\n",
    "for column in df.columns:\n",
    "    if df[column].dtype == 'object':  # Categorical columns (object type)\n",
    "        df[column] = df[column].fillna('None')  # Impute with None\n",
    "    else:  # Numerical columns\n",
    "        df[column] = df[column].fillna(0)"
   ]
  },
  {
   "cell_type": "code",
   "execution_count": 16,
   "metadata": {},
   "outputs": [],
   "source": [
    "# Fixing outliers in the Response Time column\n",
    "df['Response Time (ms)'] = pd.to_numeric(df['Response Time (ms)'], errors='coerce')\n",
    "df['Response Time (ms)'] = df['Response Time (ms)'].fillna(df['Response Time (ms)'].median())\n",
    "\n",
    "Q1 = df['Response Time (ms)'].quantile(0.25)\n",
    "Q3 = df['Response Time (ms)'].quantile(0.75)\n",
    "IQR = Q3 - Q1\n",
    "\n",
    "# Define bounds\n",
    "lower_bound = Q1 - 1.5 * IQR\n",
    "upper_bound = Q3 + 1.5 * IQR\n",
    "\n",
    "# Calculate 95th percentile as cap value\n",
    "cap_value = df['Response Time (ms)'].quantile(0.95)\n",
    "\n",
    "# Replace outliers\n",
    "df['Response Time (ms)'] = df['Response Time (ms)'].apply(\n",
    "    lambda x: cap_value if x > upper_bound else (Q1 if x < lower_bound else x)\n",
    ")"
   ]
  },
  {
   "cell_type": "code",
   "execution_count": 17,
   "metadata": {},
   "outputs": [],
   "source": [
    "# Break up timestamp\n",
    "df['Timestamp'] = pd.to_datetime(df['Timestamp'])\n",
    "df['hour'] = df['Timestamp'].dt.hour\n",
    "df['day_of_week'] = df['Timestamp'].dt.day_of_week\n",
    "df['month'] = df['Timestamp'].dt.month\n",
    "df['year'] = df['Timestamp'].dt.year\n",
    "df['is_weekend'] = df['day_of_week'].apply(lambda x: 1 if x >= 5 else 0)"
   ]
  },
  {
   "cell_type": "code",
   "execution_count": 18,
   "metadata": {},
   "outputs": [],
   "source": [
    "# Isolate referrer names\n",
    "df['Referrer']= df['Referrer'].str.extract(r\"https?://www\\.([a-z]+)\\.com\", expand=False).fillna(\"direct\")"
   ]
  },
  {
   "cell_type": "code",
   "execution_count": 19,
   "metadata": {},
   "outputs": [],
   "source": [
    "# Rename Price to revenue\n",
    "df[\"Revenue\"]=df[\"Price\"]\n"
   ]
  },
  {
   "cell_type": "code",
   "execution_count": 20,
   "metadata": {},
   "outputs": [],
   "source": [
    "sales_cols = ['Sales Agent', 'Product']\n",
    "for col in sales_cols:\n",
    "    if df[col].isna().any():\n",
    "        df[col]=df[col].fillna(\"None\")\n",
    "\n",
    "df['Revenue']=df['Revenue'].fillna(0)"
   ]
  },
  {
   "cell_type": "code",
   "execution_count": 21,
   "metadata": {},
   "outputs": [],
   "source": [
    "def categorize_url(method, path):\n",
    "    \"\"\"Categorizes URLs based on method and path patterns\"\"\"\n",
    "    path = str(path).lower()  # Ensure string and case-insensitive\n",
    "    \n",
    "    # Product Pages\n",
    "    if '/product/' in path:\n",
    "        if 'schedule-demo' in path:\n",
    "            return \"Demo Request\"\n",
    "        elif 'request.php' in path:\n",
    "            return \"Product Purchase\"\n",
    "        elif 'feedback.php' in path:\n",
    "            return \"Product Feedback\"\n",
    "        else:\n",
    "            return \"Product View\"\n",
    "    \n",
    "    # Sales Actions\n",
    "    elif any(p in path for p in ['/buy-', '/checkout', '/request-quote']):\n",
    "        return \"Sales Conversion\"\n",
    "    \n",
    "    # Marketing\n",
    "    elif any(p in path for p in ['/promo-', '/special-offers', '/newsletter']):\n",
    "        return \"Marketing Content\"\n",
    "    \n",
    "    # Support\n",
    "    elif any(p in path for p in ['/customer-support', '/faq', '/bug-tickets']):\n",
    "        return \"Support\"\n",
    "    \n",
    "    # Company Info\n",
    "    elif any(p in path for p in ['/about-us', '/contact-sales']):\n",
    "        return \"Company Info\"\n",
    "    \n",
    "    # Static Assets\n",
    "    elif any(ext in path for ext in ['.jpg', '.png', '.css', '.js', '/images/']):\n",
    "        return \"Static Asset\"\n",
    "    \n",
    "    # Homepage\n",
    "    elif path in [\"/\", \"/index.html\", \"/home\"]:\n",
    "        return \"Homepage\"\n",
    "    \n",
    "    else:\n",
    "        return \"Other\"\n",
    "\n",
    "# Apply to DataFrame (assuming df has 'Method' and 'URL' columns)\n",
    "df['Request Type'] = df.apply(\n",
    "    lambda row: categorize_url(row['Method'], row['URL']), \n",
    "    axis=1\n",
    ")"
   ]
  },
  {
   "cell_type": "code",
   "execution_count": 22,
   "metadata": {},
   "outputs": [
    {
     "name": "stdout",
     "output_type": "stream",
     "text": [
      "Total Unique IPs (counted only once): 39104\n",
      "New Visitors: 36649\n",
      "Returning Visitors: 2455\n",
      "Total Visits (All IPs): 41666\n"
     ]
    }
   ],
   "source": [
    "# Get unique IP addresses and their count\n",
    "unique_ips = df[\"IP Address\"].nunique()\n",
    "\n",
    "# Count visits per IP (this won't count duplicates anymore)\n",
    "ip_counts = df[\"IP Address\"].value_counts()\n",
    "\n",
    "# Map visit counts to the original DataFrame\n",
    "df[\"visit_count\"] = df[\"IP Address\"].map(ip_counts)\n",
    "\n",
    "# Classify visitor type (New or Returning)\n",
    "df[\"visitor_type\"] = df[\"visit_count\"].apply(lambda x: \"New\" if x == 1 else \"Returning\")\n",
    "\n",
    "# Count new and returning visitors\n",
    "new_visitors = df[df[\"visitor_type\"] == \"New\"][\"IP Address\"].nunique()\n",
    "returning_visitors = df[df[\"visitor_type\"] == \"Returning\"][\"IP Address\"].nunique()\n",
    "\n",
    "# Print results\n",
    "print(\"Total Unique IPs (counted only once):\", unique_ips)\n",
    "print(\"New Visitors:\", new_visitors)\n",
    "print(\"Returning Visitors:\", returning_visitors)\n",
    "print(\"Total Visits (All IPs):\", ip_counts.sum())\n"
   ]
  },
  {
   "cell_type": "code",
   "execution_count": 23,
   "metadata": {},
   "outputs": [
    {
     "data": {
      "text/plain": [
       "Index(['Timestamp', 'IP Address', 'Session ID', 'Country', 'Method', 'URL',\n",
       "       'Status Code', 'Response Time (ms)', 'Sales Agent', 'Referrer',\n",
       "       'Product', 'Price', 'IP_Session', 'viewed_pricing_after_demo',\n",
       "       'pages_after_demo', 'sessions_after_demo', 'time_to_purchase', 'hour',\n",
       "       'day_of_week', 'month', 'year', 'is_weekend', 'Revenue', 'Request Type',\n",
       "       'visit_count', 'visitor_type'],\n",
       "      dtype='object')"
      ]
     },
     "execution_count": 23,
     "metadata": {},
     "output_type": "execute_result"
    }
   ],
   "source": [
    "df.columns"
   ]
  },
  {
   "cell_type": "code",
   "execution_count": 24,
   "metadata": {},
   "outputs": [
    {
     "name": "stdout",
     "output_type": "stream",
     "text": [
      "CSV file data/cleaned_logs/cleaned10.csv has been saved successfully.\n"
     ]
    }
   ],
   "source": [
    "file='data/cleaned_logs/cleaned10.csv'\n",
    "df.to_csv(file, index=False)\n",
    "\n",
    "print(f\"CSV file {file} has been saved successfully.\")"
   ]
  }
 ],
 "metadata": {
  "kernelspec": {
   "display_name": ".venv",
   "language": "python",
   "name": "python3"
  },
  "language_info": {
   "codemirror_mode": {
    "name": "ipython",
    "version": 3
   },
   "file_extension": ".py",
   "mimetype": "text/x-python",
   "name": "python",
   "nbconvert_exporter": "python",
   "pygments_lexer": "ipython3",
   "version": "3.12.4"
  }
 },
 "nbformat": 4,
 "nbformat_minor": 2
}
